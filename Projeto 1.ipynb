{
 "cells": [
  {
   "cell_type": "code",
   "execution_count": 12,
   "id": "fa2b4d96",
   "metadata": {},
   "outputs": [],
   "source": [
    "import torch\n",
    "import torch.nn as nn\n",
    "import torch.optim as optim\n",
    "import torchvision.transforms as transforms\n",
    "from torchvision.datasets import ImageFolder\n",
    "from torch.utils.data import DataLoader\n"
   ]
  },
  {
   "cell_type": "code",
   "execution_count": 13,
   "id": "780ca83c",
   "metadata": {},
   "outputs": [],
   "source": [
    "# Defina as transformações para redimensionar as imagens e aplicar transformações de aumento de dados\n",
    "transform = transforms.Compose([\n",
    "    transforms.Resize((224, 224)),\n",
    "    transforms.RandomHorizontalFlip(),\n",
    "    transforms.ToTensor(),\n",
    "    transforms.Normalize(mean=[0.485, 0.456, 0.406], std=[0.229, 0.224, 0.225])  # Normalização dos canais RGB\n",
    "])\n"
   ]
  },
  {
   "cell_type": "code",
   "execution_count": 14,
   "id": "d01ee52c",
   "metadata": {},
   "outputs": [],
   "source": [
    "# Defina os caminhos para o diretório de treinamento e teste\n",
    "train_path = r\"C:/Users/My/Downloads/Projeto 1/treinamento\"\n",
    "test_path = r\"C:/Users/My/Downloads/Projeto 1/teste\"\n",
    "\n",
    "# Carregue os conjuntos de dados de treinamento e teste usando ImageFolder\n",
    "train_dataset = ImageFolder(train_path, transform=transform)\n",
    "test_dataset = ImageFolder(test_path, transform=transform)\n",
    "\n",
    "# Crie os dataloaders para carregar os dados em lotes\n",
    "batch_size = 32\n",
    "train_loader = DataLoader(train_dataset, batch_size=batch_size, shuffle=True)\n",
    "test_loader = DataLoader(test_dataset, batch_size=batch_size, shuffle=False)\n"
   ]
  },
  {
   "cell_type": "code",
   "execution_count": 15,
   "id": "702c5850",
   "metadata": {},
   "outputs": [
    {
     "name": "stderr",
     "output_type": "stream",
     "text": [
      "Using cache found in C:\\Users\\My/.cache\\torch\\hub\\pytorch_vision_main\n"
     ]
    }
   ],
   "source": [
    "# Carregue o modelo ResNet-50 pré-treinado\n",
    "model = torch.hub.load('pytorch/vision', 'resnet50', pretrained=True)\n",
    "\n",
    "# Congele os parâmetros do modelo pré-treinado\n",
    "for param in model.parameters():\n",
    "    param.requires_grad = False\n",
    "\n",
    "# Substitua a última camada totalmente conectada para ajustar o número de classes\n",
    "num_classes = 2\n",
    "model.fc = nn.Linear(model.fc.in_features, num_classes)\n"
   ]
  },
  {
   "cell_type": "code",
   "execution_count": 16,
   "id": "92caf62b",
   "metadata": {},
   "outputs": [],
   "source": [
    "# Defina a função de perda\n",
    "criterion = nn.CrossEntropyLoss()\n",
    "\n",
    "# Defina o otimizador\n",
    "optimizer = optim.Adam(model.fc.parameters(), lr=0.001)\n"
   ]
  },
  {
   "cell_type": "code",
   "execution_count": 17,
   "id": "592db48a",
   "metadata": {},
   "outputs": [],
   "source": [
    "# Verifique se há suporte para GPU\n",
    "device = torch.device('cuda' if torch.cuda.is_available() else 'cpu')\n",
    "\n",
    "# Coloque o modelo e os dados no dispositivo\n",
    "model.to(device)\n",
    "images = images.to(device)\n",
    "labels = labels.to(device)"
   ]
  },
  {
   "cell_type": "code",
   "execution_count": 18,
   "id": "7d87a6f1",
   "metadata": {},
   "outputs": [
    {
     "name": "stderr",
     "output_type": "stream",
     "text": [
      "C:\\ProgramData\\anaconda3\\lib\\site-packages\\PIL\\TiffImagePlugin.py:858: UserWarning: Truncated File Read\n",
      "  warnings.warn(str(msg))\n"
     ]
    },
    {
     "name": "stdout",
     "output_type": "stream",
     "text": [
      "Época [1/10], Perda: 0.0015\n",
      "Época [2/10], Perda: 0.0038\n",
      "Época [3/10], Perda: 1.5947\n",
      "Época [4/10], Perda: 0.0015\n",
      "Época [5/10], Perda: 0.4105\n",
      "Época [6/10], Perda: 0.0015\n",
      "Época [7/10], Perda: 0.1721\n",
      "Época [8/10], Perda: 0.0067\n",
      "Época [9/10], Perda: 0.0019\n",
      "Época [10/10], Perda: 0.0008\n"
     ]
    }
   ],
   "source": [
    "num_epochs = 10\n",
    "\n",
    "# Coloque o modelo em modo de treinamento\n",
    "model.train()\n",
    "\n",
    "# Loop de treinamento\n",
    "for epoch in range(num_epochs):\n",
    "    for images, labels in train_loader:\n",
    "        # Mova as imagens e rótulos para o dispositivo GPU, se disponível\n",
    "        images = images.to(device)\n",
    "        labels = labels.to(device)\n",
    "\n",
    "        # Zere os gradientes dos parâmetros\n",
    "        optimizer.zero_grad()\n",
    "\n",
    "        # Faça a passagem direta (forward pass)\n",
    "        outputs = model(images)\n",
    "        loss = criterion(outputs, labels)\n",
    "\n",
    "        # Faça a passagem inversa (backward pass) e otimize os parâmetros\n",
    "        loss.backward()\n",
    "        optimizer.step()\n",
    "\n",
    "    # Imprima a perda a cada época\n",
    "    print(f'Época [{epoch+1}/{num_epochs}], Perda: {loss.item():.4f}')\n"
   ]
  },
  {
   "cell_type": "code",
   "execution_count": 21,
   "id": "5b0e04b6",
   "metadata": {},
   "outputs": [
    {
     "name": "stdout",
     "output_type": "stream",
     "text": [
      "Acurácia no conjunto de teste: 98.19%\n"
     ]
    }
   ],
   "source": [
    "# Coloque o modelo em modo de avaliação\n",
    "model.eval()\n",
    "\n",
    "# Desative o cálculo dos gradientes para economizar memória e acelerar a inferência\n",
    "with torch.no_grad():\n",
    "    correct = 0\n",
    "    total = 0\n",
    "\n",
    "    # Loop de avaliação\n",
    "    for images, labels in test_loader:\n",
    "        # Mova as imagens e rótulos para o dispositivo GPU, se disponível\n",
    "        images = images.to(device)\n",
    "        labels = labels.to(device)\n",
    "\n",
    "        # Faça a passagem direta (forward pass)\n",
    "        outputs = model(images)\n",
    "\n",
    "        # Obtenha as previsões do modelo\n",
    "        _, predicted = torch.max(outputs.data, 1)\n",
    "\n",
    "        # Atualize o número total de exemplos e o número de previsões corretas\n",
    "        total += labels.size(0)\n",
    "        correct += (predicted == labels).sum().item()\n",
    "\n",
    "    # Calcule a precisão do modelo\n",
    "    accuracy = 100 * correct / total\n",
    "    print(f'Acurácia no conjunto de teste: {accuracy:.2f}%')\n"
   ]
  },
  {
   "cell_type": "code",
   "execution_count": null,
   "id": "d7475594",
   "metadata": {},
   "outputs": [],
   "source": []
  }
 ],
 "metadata": {
  "kernelspec": {
   "display_name": "Python 3 (ipykernel)",
   "language": "python",
   "name": "python3"
  },
  "language_info": {
   "codemirror_mode": {
    "name": "ipython",
    "version": 3
   },
   "file_extension": ".py",
   "mimetype": "text/x-python",
   "name": "python",
   "nbconvert_exporter": "python",
   "pygments_lexer": "ipython3",
   "version": "3.10.9"
  }
 },
 "nbformat": 4,
 "nbformat_minor": 5
}
